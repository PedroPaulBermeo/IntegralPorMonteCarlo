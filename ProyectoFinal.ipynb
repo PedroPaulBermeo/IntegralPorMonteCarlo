{
 "cells": [
  {
   "cell_type": "markdown",
   "metadata": {},
   "source": [
    "\n",
    "<br/>\n",
    "<br/>\n",
    "<br/>\n",
    "<center><h1> Proyecto Final Simulacion</h1></center>\n",
    "<br/>\n",
    "<br/>\n",
    "<br/>\n",
    "\n",
    "### Ing. Sistemas\n",
    "### Simulacion\n",
    "#### Integrantes\n",
    "*  ***Maria Jose Pelaez***\n",
    "*  ***Pedro Bermeo***\n",
    "\n",
    "<img src=\"1.jpeg\" width=\"200\"> \n",
    "\n",
    "\n",
    "\n",
    "* ***1. Objetivo***\n",
    "\n",
    " El presente trabajo contiene el desarrollo del proyecto final de la asignatura Simulacion, que consiste en resolver una integral doble mediante la Integral de Montecarlo, y estimando el error que se produce con un valor de N para los numero pseudoaleatorios.\n",
    " \n",
    " \n",
    " \n",
    "\n",
    "*  ***2. Marco Teorico***\n",
    "\n",
    "\n",
    "\n",
    "* ***Historia***\n",
    "    \n",
    "Los metodos de Monte Carlo fueron originados en Los Alamos National Laboratory poco despues de la Segunda Guerra Mundial. Si bien hubo algunos antecedentes como los de Comte de Buffon que arrojaba una aguja sobre un tablero con una cuadrıcula o los de Kelvin que estudiaba la cinetica de los gases, estos metodos aleatorios se desarrollaron e impusieron con la aparicion de la computadora. Una vez concluida la primera computadora electronica de EstadosUnidos (ENIAC), los cientıficos de Los Alamos consideraron su uso para el diseno de armas termonucleares. En 1946 Stanislaw Ulam sugirio el uso de un muestreo aleatorio para simular el recorrido de neutrones y John von Neumann desarrollo una propuesta detallada a principios de 1947. Estas simulaciones en pequena escala fueron decisivas para completar el proyecto.Metropolis and Ulam (1949) publicaron un paper en el que describieron sus ideas, que dispararon gran cantidad de investigaciones en la decada del 50. El nombre de Monte Carlo proviene de la ciudad homonima en Monaco, famosa por sus casinos. Una aplicacion importante de este metodo es al calculo de integrales, especialmente de altadimension, ya sea porque no es posible calcularlas en forma exacta o es muy difıcil su computocon el grado de precision deseado. La idea de laintegracion por Monte Carloes evaluar la integral.\n",
    "    \n",
    "\n",
    "\n",
    "* ***Aplicacion***\n",
    "\n",
    "\n",
    "\n",
    "Una aplicacion importante de este metodo es al calculo de integrales, especialmente de alta dimension, ya sea porque no es posible calcularlas en forma exacta o es muy difıcil su computocon el grado de precision deseado. La idea de laintegracion por Monte Carloes evaluar la integral usando muestreo aleatorio, usa la siguiente formula.\n",
    "\n",
    "<img src=\"MonteCarlo.JPG\" width=\"700\"> \n",
    "\n",
    "\n",
    "\n",
    "* ***Doble Integral***\n",
    "\n",
    "\n",
    "\n",
    "Para la resolucion de una doble integral mediante el metodo de Monte Carlo, se basa en el mismo proceso que para resolver la integral simple, en lo unico que varia es que para la solucion de integrales dobles, es necesario la aplicacion de la siguiente formula.\n",
    "\n",
    "\n",
    "<img src=\"Doble Integral.JPG\" width=\"600\"> \n",
    "\n",
    "\n",
    "\n",
    "* ***Estimacion del Error***\n",
    "\n",
    "\n",
    "Para poder estimar el error de N numeros pseudoaleatorios, es necesario usar las siguiente formulas o ecuaciones, las mismas que consisten en la aplicacion de la Varianza, y para ello es necesario calcular $(𝑓^2)$ y también $(𝑓)^2$, para ello se usan las ecuaciones que se esepcifican a continuacion.\n",
    "\n",
    "*  ***a. Primera Ecuación***\n",
    "\n",
    "Esta fórmula consiste en el calculo de la Varianza que existe entre $(𝑓^2)$ y $(𝑓)^2$, para ello primero se deben calcular la Segunda y Tercera Ecuacion.\n",
    "\n",
    "\n",
    "*  ***b. Segunda Ecuación***\n",
    "\n",
    "Esta ecuación consisten en reemplazar los valores pseudoaleatorios generados tanto para $x$ como para $y$ en la funcion $f(x,y)$ para ello lo que se hace es los valores pseudoaleatorios generados pasarlos al metodo FXY, este nos devolvera un valor correspondiente al calculo y reeplazo de los valores en la funcion, a todos estos valores se debe realizar una sumatoria y luego dividir para la cantidad de números generados.\n",
    "\n",
    "\n",
    "*  ***c. Tercera Ecuación***\n",
    "\n",
    "Esta ecuación consiste en realizar lo mismo para el calculo de la segunda ecuacion es decir se debe reemplazar los valores de $x, y$ en la función, y a ese valor se lo eleva al cuadrado, y de hay se realiza nuevamente una sumatoria de todos los valores, y al final se dibide para la cantidad de números generados.\n",
    "\n",
    "\n",
    "Finalmente, luego de se debe aplicar la primera fórmula que consiste en restar el valor de la segunda ecuacion $(f^2)$ menos el valor de la primera ecuacion $(f)$ elevado al cuadrado, y a esto se le aplica la raiz cuadrada y asi se obtendrá el valor del Error con los N generados, tal cual esta ejemplificado en el código fuente.\n",
    "\n",
    "<img src=\"Error.JPG\" width=\"350\"> \n",
    "\n",
    "\n",
    "\n",
    "*  ***3. Integral a Resolver***\n",
    "\n",
    "\n",
    "Para el desarrollo del presente proyecto, se parte de la siguiente ecuacion a resolver mediante la Integral de Montecarlo:\n",
    "\n",
    "\n",
    "<img src=\"Funcion.JPG\" width=\"800\"> \n",
    "\n",
    "\n",
    "\n",
    "*  ***4. Resolucion en WolframAlpha***\n",
    "\n",
    "Para poder resolver en este software la integral se lo ingreso de la siguiente Sentencia:\n",
    "\n",
    "*  ***(integral_0^3(integral_0^3 (log(4x)+9x^2+13x^3y^2+(sin((3x+2y)/(6+y)+cos(12x^2))/(log(12-x^2)+(cos(log(7x+21y)))))-sin((2x)^1/3 -y^1/2)) dx) dy)***\n",
    "\n",
    "Y como Resultado de la ejecucion del Wolfram se obtuvo lo siguiente:\n",
    "\n",
    "\n",
    "<img src=\"Resultado.JPG\" width=\"800\"> \n",
    "\n",
    "\n",
    "Como se aprecia el Resultado que nos dio el Wolfram es de:\n",
    "\n",
    "\n",
    "|     Software    |     Resultado    |\n",
    "| :------- | :------: |\n",
    "|     WolframAlpha   | 2629       |\n",
    "\n",
    "\n",
    "A continuacion, se detalla el proceso de la resolucion del proyecto final.\n",
    "\n",
    "\n"
   ]
  },
  {
   "cell_type": "markdown",
   "metadata": {},
   "source": [
    "*  ***5. Desarrollo del proyecto***\n",
    "\n",
    "Como primer paso, procedemos a declarar la Autoria del presente proyecto"
   ]
  },
  {
   "cell_type": "code",
   "execution_count": 1,
   "metadata": {},
   "outputs": [],
   "source": [
    "__author__ = \"Pedro Bermeo, Maria Jose Pelaez\"\n",
    "__copyright__ = \"Simulacion - Universidad Politecnica Salesiana\"\n",
    "__credits__ = [\"Pedro Bermeo, Maria Jose Pelaez\"]\n",
    "__license__ = \"GPL\"\n",
    "__version__ = \"1.0\"\n",
    "__maintainer__ = \"Pedro Bermeo, Maria Jose Pelaez\"\n",
    "__email__ = \"pbermeoa@est.ups.edu.ec, mpelaezc@est.ups.edu.ec\"\n",
    "__status__ = \"Production\"\n"
   ]
  },
  {
   "cell_type": "markdown",
   "metadata": {},
   "source": [
    "### Importacion de Librerias\n",
    "A continuacion importamos las librerias necesarias para la simulacion."
   ]
  },
  {
   "cell_type": "code",
   "execution_count": 2,
   "metadata": {},
   "outputs": [],
   "source": [
    "import random\n",
    "import numpy as np\n",
    "from sympy import Symbol, Function, diff, solve,sqrt,cos,ln\n",
    "import scipy.integrate\n",
    "import math\n",
    "import matplotlib.pyplot as plt\n",
    "from mpl_toolkits import mplot3d\n",
    "%matplotlib inline\n"
   ]
  },
  {
   "cell_type": "markdown",
   "metadata": {},
   "source": [
    "### Declaracion de Metodo FXY()\n",
    "\n",
    "Se procede a declarar el metodo fxy, mismo que nos dvolvera el valor de f(x,y), de la funcion al reemplazar los valores de X, Y.\n",
    "Este metodo nos servira para poder realizar la grafica final de la funcion."
   ]
  },
  {
   "cell_type": "code",
   "execution_count": 3,
   "metadata": {},
   "outputs": [],
   "source": [
    "def FXY(x,y):\n",
    "    return ((9*np.power(x,2.0))+(13*(np.multiply(np.power(x,3.0),np.power(y,2.0))))+(np.log(4*x))-(np.sin((np.power(2*x,(1/3)))-(np.power(y,(1/2)))))+((np.sin(((3*x+2*y)/(6+y))+np.cos(12*np.power(x,2.00))))/(np.cos(np.log(7*x+21*y))+np.log(12-np.power(x,2.00)))))"
   ]
  },
  {
   "cell_type": "markdown",
   "metadata": {},
   "source": [
    "### Declaracion de Metodo FXY2()\n",
    "\n",
    "Este metodo recibe como parametros los valores generados para $x,y$, asi como tambien recibe los limites para los que vamos a realizar la integral, esto debido a que necesitamos aplicar la montecarlo para obtener los valores de $x,y$ y reemplazarlos en la ecuacion."
   ]
  },
  {
   "cell_type": "code",
   "execution_count": 4,
   "metadata": {},
   "outputs": [],
   "source": [
    "def FXY2(xa,ya,a,b,c,d):\n",
    "    x=(b-a)*xa+a\n",
    "    y=(d-c)*ya+c\n",
    "    fxy = ((9*np.power(x,2.0))+(13*(np.multiply(np.power(x,3.0),np.power(y,2.0))))+(np.log(4*x))-(np.sin((np.power(2*x,(1/3)))-(np.power(y,(1/2)))))+((np.sin(((3*x+2*y)/(6+y))+np.cos(12*np.power(x,2.00))))/(np.cos(np.log(7*x+21*y))+np.log(12-np.power(x,2.00)))))\n",
    "    return fxy"
   ]
  },
  {
   "cell_type": "markdown",
   "metadata": {},
   "source": [
    "### Declaracion de Metodo estimarError()\n",
    "\n",
    "Este metodo se encargara de estimar el error para N valores pseudoaleatorios, aplicando las formulas previamente detalladas.\n",
    "\n"
   ]
  },
  {
   "cell_type": "code",
   "execution_count": 5,
   "metadata": {},
   "outputs": [],
   "source": [
    " def estimarError(a,b,c,d,nAleatorios):\n",
    "        nSubs = 0\n",
    "        f = 0\n",
    "        f2 = 0\n",
    "        fxy = 0\n",
    "        for i in range(nAleatorios):\n",
    "            x = random.random()\n",
    "            y = random.random()\n",
    "            fxy += FXY2(x,y,a,b,c,d)\n",
    "            nSubs = FXY(x,y)\n",
    "            f += (nSubs)\n",
    "            f2 += np.power(nSubs, 2)\n",
    "        f = f / nAleatorios\n",
    "        f2 = f2 / nAleatorios\n",
    "        errorCalculado = sqrt(f2 - np.power(f,2))\n",
    "        print(\"Error con: \", nAleatorios, \" #Aleatorios es de: \", errorCalculado)\n",
    "        return fxy\n",
    "        "
   ]
  },
  {
   "cell_type": "markdown",
   "metadata": {},
   "source": [
    "### Declaracion de Metodo calcularIntegralDoble()\n",
    "\n",
    "Este metodo lo que hara sera calcularme el valor de la integral Doble."
   ]
  },
  {
   "cell_type": "code",
   "execution_count": 6,
   "metadata": {},
   "outputs": [],
   "source": [
    "def calcularIntegralDoble(a,b,c,d,n):\n",
    "    \n",
    "    fxy = (estimarError(a,b,c,d,n))\n",
    "    \n",
    "    res = ((b-a)*(d-c)/n)*fxy\n",
    "    return res\n",
    "    "
   ]
  },
  {
   "cell_type": "markdown",
   "metadata": {},
   "source": [
    "Podemos observar que el Resultado que se obtiene es de 2627.92 y es muy parecido a los 2629 que nos arrojo el WolframAlfa.\n"
   ]
  },
  {
   "cell_type": "code",
   "execution_count": 14,
   "metadata": {},
   "outputs": [
    {
     "name": "stdout",
     "output_type": "stream",
     "text": [
      "Error con:  10000  #Aleatorios es de:  4.69764577770725\n",
      "Respuesta:  2627.9273786242024\n"
     ]
    }
   ],
   "source": [
    "res = calcularIntegralDoble(0.0, 3.0, 0.0, 3.0,(10000))\n",
    "                            \n",
    "print(\"Respuesta: \",res)\n"
   ]
  },
  {
   "cell_type": "markdown",
   "metadata": {},
   "source": [
    "*  ***5. Otra forma de Resolucion mediante SCIPY***\n",
    "\n",
    "Para poder comprobar que los resultados de la resolucion de la integral en wolframalpha y mediante el metodo de Montecarlo nos dio resultados correctos, a continuacion resolvemos la misma integral mediante la libreria scripy, ya que gracias a integrate.dblquad podemos resolver integrales dobles, pasandole como parametros la funcion y los limites con los que queremos realizar las dos integrales, el codigo es el siguiente:"
   ]
  },
  {
   "cell_type": "code",
   "execution_count": 10,
   "metadata": {},
   "outputs": [
    {
     "name": "stdout",
     "output_type": "stream",
     "text": [
      "La Repuesta de la integral es: \n",
      " 2629.003475648896 \n",
      "Con un error de: \n",
      " 2.2479299360969132e-05\n"
     ]
    }
   ],
   "source": [
    "import scipy.integrate as integrate\n",
    "I  = integrate.dblquad(FXY,0,3,0,3)\n",
    "\n",
    "print(\"La Repuesta de la integral es: \\n\", str(I[0]), \"\\nCon un error de: \\n\",str(I[1]))\n"
   ]
  },
  {
   "cell_type": "markdown",
   "metadata": {},
   "source": [
    "\n",
    "Como se puede apreciar el resultado es de 2629.003, y es muy parecido a los otros dos resultados que obtuvimos, cabe recalcar que este resultado puede variar, dependiendo de la cantidad de numeros pseudoaleatorios que se generen.\n",
    "Una vez obtenido los tres resultados se puede concluir que esta bien resuelta la ecuacion.\n",
    "\n",
    "A continuacion, se presenta una tabla comparativa en la que se detallan los tres resultados obtenidos, de la resolucion de la funcion inicial.\n",
    "\n",
    "|     Software    |     Resultado    |\n",
    "| :------- | :------: |\n",
    "|     WolframAlpha   | 2629       |\n",
    "|     Monte Carlo   | 2627.927       |\n",
    "|     SCIPY   | 2629.003       |\n",
    "\n",
    "\n"
   ]
  },
  {
   "cell_type": "markdown",
   "metadata": {},
   "source": [
    "*  ***6. Grafica de la Funcion Ingresada***\n",
    "\n",
    "Se procede a realizar la grafica de la funcion que fue ingresada, para ello se lo realizo con el siguiente codigo."
   ]
  },
  {
   "cell_type": "code",
   "execution_count": 9,
   "metadata": {},
   "outputs": [
    {
     "name": "stderr",
     "output_type": "stream",
     "text": [
      "/home/mary/anaconda3/envs/simulacion/lib/python3.7/site-packages/ipykernel_launcher.py:2: RuntimeWarning: invalid value encountered in log\n",
      "  \n",
      "/home/mary/anaconda3/envs/simulacion/lib/python3.7/site-packages/ipykernel_launcher.py:2: RuntimeWarning: invalid value encountered in power\n",
      "  \n"
     ]
    },
    {
     "data": {
      "image/png": "[encoded data removed]",
      "text/plain": [
       "<Figure size 432x288 with 1 Axes>"
      ]
     },
     "metadata": {
      "needs_background": "light"
     },
     "output_type": "display_data"
    }
   ],
   "source": [
    "fig = plt.figure()\n",
    "ax = fig.add_subplot(111, projection='3d')\n",
    "x = y = np.arange(-3.0, 3.0, 0.05)\n",
    "X, Y = np.meshgrid(x, y)\n",
    "zs = np.array([FXY(x,y) for x,y in zip(np.ravel(X), np.ravel(Y))])\n",
    "Z = zs.reshape(X.shape)\n",
    "ax.plot_surface(X, Y, Z)\n",
    "ax.set_xlabel('X')\n",
    "ax.set_ylabel('Y')\n",
    "ax.set_zlabel('Z')\n",
    "plt.show()\n",
    "\n"
   ]
  },
  {
   "cell_type": "markdown",
   "metadata": {},
   "source": [
    "# Referencias\n",
    "\n",
    "\n",
    "[1] Northeastern University. (2018). Monte Carlo error analysis. 06/08/2019, de Northeastern University Sitio web: https://web.northeastern.edu/afeiguin/phys5870/phys5870/node71.html\n",
    "\n",
    "\n",
    "[2] College of Natural Sciences and Mathematics Department of Mathematics. (2018). Module for Monte Carlo Integration. 06/08/2019, de College of Natural Sciences and Mathematics Department of Mathematics Sitio web: http://mathfaculty.fullerton.edu/mathews/n2003/MonteCarloMod.html\n",
    "\n",
    "\n",
    "[3] José Ignacio Illana. (2017). Métodos Monte Carlo. 06/08/2019, de Universidad de Granada Sitio web: https://www.ugr.es/~jillana/Docencia/FM/mc.pdf\n",
    "\n",
    "\n",
    "[4] Universidad de Buenos Aires. (2016). Integracion por el metodo de Monte Carlo. 05/08/2019, de Universidad de Buenos Aires Sitio web: http://www.dm.uba.ar/materias/probabilidades_estadistica_C/2006/2/TpR20062.pdf\n",
    "\n",
    "\n",
    "[5] Patricia Kisbye. (2016). Integración por el método de Monte Carlo. 06/08/2019, de Universidad Nacional del Nordeste Sitio web: http://www.ing.unne.edu.ar/assets/pdf/academica/departamentos/computacion/montecarlo.pdf\n",
    "\n",
    "\n",
    "[6] Juan C. Cortés. (2015). Método de Montecarlo para calcular integrales. 05/08/2019, de Universitat Politècnica de València Sitio web: https://www.researchgate.net/publication/50839519_Metodo_de_Montecarlo_para_calcular_integrales"
   ]
  },
  {
   "cell_type": "code",
   "execution_count": null,
   "metadata": {},
   "outputs": [],
   "source": []
  }
 ],
 "metadata": {
  "kernelspec": {
   "display_name": "python 3.7-simulacion",
   "language": "python",
   "name": "simulacion"
  },
  "language_info": {
   "codemirror_mode": {
    "name": "ipython",
    "version": 3
   },
   "file_extension": ".py",
   "mimetype": "text/x-python",
   "name": "python",
   "nbconvert_exporter": "python",
   "pygments_lexer": "ipython3",
   "version": "3.7.3"
  }
 },
 "nbformat": 4,
 "nbformat_minor": 2
}
